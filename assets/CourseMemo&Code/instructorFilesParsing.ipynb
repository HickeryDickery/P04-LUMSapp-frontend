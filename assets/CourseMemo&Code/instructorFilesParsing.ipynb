{
 "cells": [
  {
   "cell_type": "code",
   "execution_count": null,
   "metadata": {},
   "outputs": [],
   "source": [
    "import pandas as pd\n",
    "import numpy as np"
   ]
  },
  {
   "cell_type": "code",
   "execution_count": null,
   "metadata": {},
   "outputs": [],
   "source": [
    "df = pd.read_csv(\"./Spring Semester 2024 - Course Memo.csv\")"
   ]
  },
  {
   "cell_type": "code",
   "execution_count": null,
   "metadata": {},
   "outputs": [],
   "source": [
    "df.head(10)"
   ]
  },
  {
   "cell_type": "code",
   "execution_count": null,
   "metadata": {},
   "outputs": [],
   "source": [
    "df = df.filter([\"Offering Dept\", \"Instructor Name\"])\n",
    "\n",
    "df = df.drop_duplicates(subset=['Instructor Name'])\n"
   ]
  },
  {
   "cell_type": "code",
   "execution_count": null,
   "metadata": {},
   "outputs": [],
   "source": [
    "df['Instructor Name'] = df['Instructor Name'].str.split(',')\n"
   ]
  },
  {
   "cell_type": "code",
   "execution_count": null,
   "metadata": {},
   "outputs": [],
   "source": [
    "df.dropna(inplace=True)"
   ]
  },
  {
   "cell_type": "code",
   "execution_count": null,
   "metadata": {},
   "outputs": [],
   "source": [
    "df.head(10)"
   ]
  },
  {
   "cell_type": "code",
   "execution_count": null,
   "metadata": {},
   "outputs": [],
   "source": [
    "instructor_dept_pairs = {}\n",
    "for index, row in df.iterrows():\n",
    "    department = row['Offering Dept']\n",
    "    if (len(row[\"Instructor Name\"]))>1:\n",
    "        instructors = str(row['Instructor Name'][1]) + \" \" + str(row[\"Instructor Name\"][0])\n",
    "    else:\n",
    "        instructors = row['Instructor Name']\n",
    "        instructors = ', '.join(instructors)\n",
    "\n",
    "    instructor_dept_pairs[instructors] = department\n",
    "\n",
    "# Print the resulting dictionary\n",
    "print(instructor_dept_pairs)"
   ]
  },
  {
   "cell_type": "code",
   "execution_count": null,
   "metadata": {},
   "outputs": [],
   "source": [
    "instructor_school_pairs = {}\n",
    "for key, value in instructor_dept_pairs.items():\n",
    "    if value in [\"BIOLOGY\", \"EE\", \"PHYSICS\", \"CS\", \"CHEMISTRY\", \"ENGG\", \"MATH\"]:\n",
    "        instructor_school_pairs[key] = \"SSE\"\n",
    "    elif value in [\"ENGL\", \"ANTH&SOC\", \"GC\", \"ECON\", \"HISTORY\", \"SCI\", 'HSS', 'POLSCI', 'ENV', \"SWGI\", \"SWR\"]:\n",
    "        instructor_school_pairs[key] = \"HSS\"\n",
    "    elif value in [\"ACF\", \"MGMTSCI\", \"BUSADM\"]:\n",
    "        instructor_school_pairs[key] = \"SDSB\"\n",
    "    elif value in [\"LAW\"]:\n",
    "        instructor_school_pairs[key] = \"LAW\"\n",
    "    elif value in [\"DOE\"]:\n",
    "        instructor_school_pairs[key] = \"EDU\"\n",
    "\n",
    "print(instructor_school_pairs)"
   ]
  },
  {
   "cell_type": "code",
   "execution_count": null,
   "metadata": {},
   "outputs": [],
   "source": [
    "unique_values = set(instructor_dept_pairs.values())\n",
    "print(unique_values)"
   ]
  },
  {
   "cell_type": "code",
   "execution_count": null,
   "metadata": {},
   "outputs": [],
   "source": [
    "instructor_details = []\n",
    "\n",
    "for key1, val1 in instructor_dept_pairs.items():\n",
    "    for key2, val2 in instructor_school_pairs.items():\n",
    "        if key1 == key2:\n",
    "            instructor_details.append([key1, val2, val1]) # name, school, dept"
   ]
  },
  {
   "cell_type": "code",
   "execution_count": null,
   "metadata": {},
   "outputs": [],
   "source": [
    "instructor_details"
   ]
  },
  {
   "cell_type": "code",
   "execution_count": null,
   "metadata": {},
   "outputs": [],
   "source": [
    "df2 = df[df[\"Instructor Name\"].str.contains(\"TBA\") == True]"
   ]
  },
  {
   "cell_type": "code",
   "execution_count": null,
   "metadata": {},
   "outputs": [],
   "source": [
    "df2.head(4)"
   ]
  },
  {
   "cell_type": "code",
   "execution_count": null,
   "metadata": {},
   "outputs": [],
   "source": []
  }
 ],
 "metadata": {
  "kernelspec": {
   "display_name": "Python 3",
   "language": "python",
   "name": "python3"
  },
  "language_info": {
   "codemirror_mode": {
    "name": "ipython",
    "version": 3
   },
   "file_extension": ".py",
   "mimetype": "text/x-python",
   "name": "python",
   "nbconvert_exporter": "python",
   "pygments_lexer": "ipython3",
   "version": "3.10.11"
  }
 },
 "nbformat": 4,
 "nbformat_minor": 2
}
